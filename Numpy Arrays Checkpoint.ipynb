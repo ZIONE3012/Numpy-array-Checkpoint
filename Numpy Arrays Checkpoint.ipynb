{
 "cells": [
  {
   "cell_type": "code",
   "execution_count": 7,
   "id": "87a7497d-75ed-43c6-b289-97a1e5be0d19",
   "metadata": {},
   "outputs": [
    {
     "name": "stdout",
     "output_type": "stream",
     "text": [
      "Grades: [85 90 88 92 95 80 75 98 89 83]\n",
      "Mean: 87.5\n",
      "Median: 88.5\n",
      "Standard Deviation: 6.591661399070799\n",
      "Maximum Grade: 98\n",
      "Minimum Grade: 75\n",
      "Sorted Grades: [75 80 83 85 88 89 90 92 95 98]\n",
      "Index of Highest Grade: 7\n",
      "Number of Students Scoring Above 90: 3\n",
      "Percentage of Students Scoring Above 90: 30.00%\n",
      "Percentage of Students Scoring Below 75: 0.00%\n",
      "High Performers: [92 95 98]\n",
      "Passing Grades: [85 90 88 92 95 80 98 89 83]\n"
     ]
    }
   ],
   "source": [
    "#Numpy Checkpoint \n",
    "#importing numpy inorder to work on the checkpoint\n",
    "import numpy as np\n",
    "grades = [85, 90, 88, 92, 95, 80, 75, 98, 89, 83]\n",
    "#creating the grades array \n",
    "grades = np.array([85, 90, 88, 92, 95, 80, 75, 98, 89, 83])\n",
    "\n",
    "#Calculating the mean,median, std_deviation of the grades\n",
    "mean_grade = np.mean(grades)\n",
    "median_grade = np.median(grades)\n",
    "std_grade = np.std(grades)\n",
    "#Finding the max and minimum grades\n",
    "max_grade = np.max(grades)\n",
    "min_grade = np.min(grades)\n",
    "#Sorting the grades in ascending order \n",
    "sorted_grades = np.sort(grades)\n",
    "#Using numpy function to find the index of the highest grade in the array.\n",
    "highest_index = np.argmax(grades)\n",
    "#Using numpy function to count the number of students who scored above 90.\n",
    "count_above_90 = np.sum(grades > 90)\n",
    "#Using numpy function to calculate the percentage of students who scored above 90.\n",
    "percentage_above_90 =(count_above_90 / len(grades)) * 100\n",
    "#Using numpy function to calculate the percentage of students who scored below 75.\n",
    "percentage_below_75 = (np.sum(grades < 75) / len(grades)) * 100\n",
    "#Extracting the grades above 90, inputing in an array called \"high_performers\".\n",
    "high_performers = grades[grades > 90]\n",
    "#Creating a new array called \"passing_grades\" containing all the grades above 75.\n",
    "passing_grades = grades[grades > 75]\n",
    "#Printing the results\n",
    "print(f\"Grades: {grades}\")\n",
    "print(f\"Mean: {mean_grade}\")\n",
    "print(f\"Median: {median_grade}\")\n",
    "print(f\"Standard Deviation: {std_grade}\")\n",
    "print(f\"Maximum Grade: {max_grade}\")\n",
    "print(f\"Minimum Grade: {min_grade}\")\n",
    "print(f\"Sorted Grades: {sorted_grades}\")\n",
    "print(f\"Index of Highest Grade: {highest_index}\")\n",
    "print(f\"Number of Students Scoring Above 90: {count_above_90}\")\n",
    "print(f\"Percentage of Students Scoring Above 90: {percentage_above_90:.2f}%\")\n",
    "print(f\"Percentage of Students Scoring Below 75: {percentage_below_75:.2f}%\")\n",
    "print(f\"High Performers: {high_performers}\")\n",
    "print(f\"Passing Grades: {passing_grades}\")"
   ]
  },
  {
   "cell_type": "code",
   "execution_count": null,
   "id": "0956f47e-bbf9-484f-9654-6f18763046f5",
   "metadata": {},
   "outputs": [],
   "source": []
  },
  {
   "cell_type": "code",
   "execution_count": null,
   "id": "e113a2ad-77ab-4c94-8f09-d1954a665ff0",
   "metadata": {},
   "outputs": [],
   "source": []
  },
  {
   "cell_type": "code",
   "execution_count": null,
   "id": "0fd30457-2c03-417f-9272-731eec8b51d9",
   "metadata": {},
   "outputs": [],
   "source": []
  }
 ],
 "metadata": {
  "kernelspec": {
   "display_name": "Python 3 (ipykernel)",
   "language": "python",
   "name": "python3"
  },
  "language_info": {
   "codemirror_mode": {
    "name": "ipython",
    "version": 3
   },
   "file_extension": ".py",
   "mimetype": "text/x-python",
   "name": "python",
   "nbconvert_exporter": "python",
   "pygments_lexer": "ipython3",
   "version": "3.11.7"
  }
 },
 "nbformat": 4,
 "nbformat_minor": 5
}
